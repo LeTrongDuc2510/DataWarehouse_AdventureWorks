{
 "cells": [
  {
   "cell_type": "code",
   "execution_count": 8,
   "metadata": {},
   "outputs": [],
   "source": [
    "import numpy as np\n",
    "import pyodbc\n",
    "import pandas as pd"
   ]
  },
  {
   "cell_type": "code",
   "execution_count": 9,
   "metadata": {},
   "outputs": [],
   "source": [
    "conn = pyodbc.connect(\n",
    "    '''\n",
    "    DRIVER={ODBC Driver 17 for SQL Server};\n",
    "    SERVER=DESKTOP-7CB1RAA;\n",
    "    DATABASE=master;\n",
    "    Trusted_Connection=yes;\n",
    "    '''\n",
    "    )"
   ]
  },
  {
   "cell_type": "code",
   "execution_count": 13,
   "metadata": {},
   "outputs": [
    {
     "name": "stdout",
     "output_type": "stream",
     "text": [
      "[(285, 'Syed', 'E', 'Abbas'), (293, 'Catherine', 'R.', 'Abel'), (295, 'Kim', None, 'Abercrombie'), (2170, 'Kim', None, 'Abercrombie'), (38, 'Kim', 'B', 'Abercrombie'), (211, 'Hazem', 'E', 'Abolrous'), (2357, 'Sam', None, 'Abolrous'), (297, 'Humberto', None, 'Acevedo'), (291, 'Gustavo', None, 'Achong'), (299, 'Pilar', None, 'Ackerman')]\n",
      "(10, 4)\n"
     ]
    }
   ],
   "source": [
    "cursor = conn.cursor()\n",
    "cursor.execute(\n",
    "    '''\n",
    "    SELECT TOP (10) [BusinessEntityID]\n",
    "        ,[FirstName]\n",
    "        ,[MiddleName]\n",
    "        ,[LastName]\n",
    "    FROM [CompanyX].[Person].[Person]\n",
    "    ''')\n",
    "\n",
    "result = cursor.fetchall()\n",
    "print(result)\n"
   ]
  },
  {
   "cell_type": "code",
   "execution_count": 15,
   "metadata": {},
   "outputs": [
    {
     "data": {
      "text/html": [
       "<div>\n",
       "<style scoped>\n",
       "    .dataframe tbody tr th:only-of-type {\n",
       "        vertical-align: middle;\n",
       "    }\n",
       "\n",
       "    .dataframe tbody tr th {\n",
       "        vertical-align: top;\n",
       "    }\n",
       "\n",
       "    .dataframe thead th {\n",
       "        text-align: right;\n",
       "    }\n",
       "</style>\n",
       "<table border=\"1\" class=\"dataframe\">\n",
       "  <thead>\n",
       "    <tr style=\"text-align: right;\">\n",
       "      <th></th>\n",
       "      <th>BusinessEntityID</th>\n",
       "      <th>FirstName</th>\n",
       "      <th>MiddleName</th>\n",
       "      <th>LastName</th>\n",
       "    </tr>\n",
       "  </thead>\n",
       "  <tbody>\n",
       "    <tr>\n",
       "      <th>0</th>\n",
       "      <td>285</td>\n",
       "      <td>Syed</td>\n",
       "      <td>E</td>\n",
       "      <td>Abbas</td>\n",
       "    </tr>\n",
       "    <tr>\n",
       "      <th>1</th>\n",
       "      <td>293</td>\n",
       "      <td>Catherine</td>\n",
       "      <td>R.</td>\n",
       "      <td>Abel</td>\n",
       "    </tr>\n",
       "    <tr>\n",
       "      <th>2</th>\n",
       "      <td>295</td>\n",
       "      <td>Kim</td>\n",
       "      <td>None</td>\n",
       "      <td>Abercrombie</td>\n",
       "    </tr>\n",
       "    <tr>\n",
       "      <th>3</th>\n",
       "      <td>2170</td>\n",
       "      <td>Kim</td>\n",
       "      <td>None</td>\n",
       "      <td>Abercrombie</td>\n",
       "    </tr>\n",
       "    <tr>\n",
       "      <th>4</th>\n",
       "      <td>38</td>\n",
       "      <td>Kim</td>\n",
       "      <td>B</td>\n",
       "      <td>Abercrombie</td>\n",
       "    </tr>\n",
       "    <tr>\n",
       "      <th>5</th>\n",
       "      <td>211</td>\n",
       "      <td>Hazem</td>\n",
       "      <td>E</td>\n",
       "      <td>Abolrous</td>\n",
       "    </tr>\n",
       "    <tr>\n",
       "      <th>6</th>\n",
       "      <td>2357</td>\n",
       "      <td>Sam</td>\n",
       "      <td>None</td>\n",
       "      <td>Abolrous</td>\n",
       "    </tr>\n",
       "    <tr>\n",
       "      <th>7</th>\n",
       "      <td>297</td>\n",
       "      <td>Humberto</td>\n",
       "      <td>None</td>\n",
       "      <td>Acevedo</td>\n",
       "    </tr>\n",
       "    <tr>\n",
       "      <th>8</th>\n",
       "      <td>291</td>\n",
       "      <td>Gustavo</td>\n",
       "      <td>None</td>\n",
       "      <td>Achong</td>\n",
       "    </tr>\n",
       "    <tr>\n",
       "      <th>9</th>\n",
       "      <td>299</td>\n",
       "      <td>Pilar</td>\n",
       "      <td>None</td>\n",
       "      <td>Ackerman</td>\n",
       "    </tr>\n",
       "  </tbody>\n",
       "</table>\n",
       "</div>"
      ],
      "text/plain": [
       "  BusinessEntityID  FirstName MiddleName     LastName\n",
       "0              285       Syed          E        Abbas\n",
       "1              293  Catherine         R.         Abel\n",
       "2              295        Kim       None  Abercrombie\n",
       "3             2170        Kim       None  Abercrombie\n",
       "4               38        Kim          B  Abercrombie\n",
       "5              211      Hazem          E     Abolrous\n",
       "6             2357        Sam       None     Abolrous\n",
       "7              297   Humberto       None      Acevedo\n",
       "8              291    Gustavo       None       Achong\n",
       "9              299      Pilar       None     Ackerman"
      ]
     },
     "metadata": {},
     "output_type": "display_data"
    }
   ],
   "source": [
    "newRes = pd.DataFrame(np.asarray(result), columns=['BusinessEntityID','FirstName','MiddleName','LastName'])\n",
    "display(newRes)"
   ]
  },
  {
   "cell_type": "code",
   "execution_count": null,
   "metadata": {},
   "outputs": [],
   "source": []
  }
 ],
 "metadata": {
  "kernelspec": {
   "display_name": "venv",
   "language": "python",
   "name": "python3"
  },
  "language_info": {
   "codemirror_mode": {
    "name": "ipython",
    "version": 3
   },
   "file_extension": ".py",
   "mimetype": "text/x-python",
   "name": "python",
   "nbconvert_exporter": "python",
   "pygments_lexer": "ipython3",
   "version": "3.10.4"
  }
 },
 "nbformat": 4,
 "nbformat_minor": 2
}
