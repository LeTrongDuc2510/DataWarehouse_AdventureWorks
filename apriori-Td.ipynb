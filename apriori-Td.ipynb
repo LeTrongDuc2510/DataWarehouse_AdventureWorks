{
  "cells": [
    {
      "cell_type": "code",
      "execution_count": 2,
      "metadata": {},
      "outputs": [],
      "source": [
        "import numpy as np\n",
        "import pyodbc\n",
        "import pandas as pd"
      ]
    },
    {
      "cell_type": "code",
      "execution_count": 6,
      "metadata": {},
      "outputs": [],
      "source": [
        "# current\n",
        "# connect to the SQL server database\n",
        "conn = pyodbc.connect(\n",
        "    '''\n",
        "    DRIVER={ODBC Driver 17 for SQL Server};\n",
        "    SERVER=DESKTOP-7CB1RAA;\n",
        "    DATABASE=CompanyX;\n",
        "    Trusted_Connection=yes;\n",
        "    '''\n",
        "    )\n",
        "\n",
        "# create a cursor to fetch data\n",
        "cursor = conn.cursor()"
      ]
    },
    {
      "cell_type": "markdown",
      "metadata": {},
      "source": [
        "### Extract the table 1\n",
        "Each row contain <Tid, s, t>, Tid is the transaction identifier, s is the set of item, t is the time epoch expressing the time that Tid occurs\n",
        "\n",
        "![Table 1](img/table1.png)\n"
      ]
    },
    {
      "cell_type": "code",
      "execution_count": 56,
      "metadata": {},
      "outputs": [
        {
          "name": "stdout",
          "output_type": "stream",
          "text": [
            "          TiD  Item\n",
            "0       43659   716\n",
            "1       43659   712\n",
            "2       43659   771\n",
            "3       43659   778\n",
            "4       43659   774\n",
            "...       ...   ...\n",
            "121312  75122   712\n",
            "121313  75122   878\n",
            "121314  75123   712\n",
            "121315  75123   879\n",
            "121316  75123   878\n",
            "\n",
            "[121317 rows x 2 columns]\n"
          ]
        }
      ],
      "source": [
        "query1 = \"\"\"\n",
        "select SalesOrderID as TiD,\n",
        "\tProductID as Item\n",
        "from [CompanyX].[Sales].[SalesOrderDetail]\n",
        "group by SalesOrderID, ProductID\n",
        "order by SalesOrderID\n",
        "\"\"\"\n",
        "\n",
        "cursor.execute(query1)\n",
        "result = cursor.fetchall()\n",
        "df1 = pd.DataFrame(np.asarray(result), columns=['TiD','Item'])\n",
        "print(df1)\n"
      ]
    },
    {
      "cell_type": "code",
      "execution_count": 57,
      "metadata": {},
      "outputs": [
        {
          "name": "stdout",
          "output_type": "stream",
          "text": [
            "         TiD                                               Item\n",
            "0      43659  [716, 712, 771, 778, 774, 709, 777, 711, 773, ...\n",
            "1      43660                                         [762, 758]\n",
            "2      43661  [743, 712, 708, 716, 775, 747, 711, 742, 778, ...\n",
            "3      43662  [730, 722, 726, 763, 753, 725, 738, 749, 733, ...\n",
            "4      43663                                              [760]\n",
            "...      ...                                                ...\n",
            "31460  75119                                    [873, 921, 930]\n",
            "31461  75120                                    [884, 878, 712]\n",
            "31462  75121                                    [921, 707, 930]\n",
            "31463  75122                                         [712, 878]\n",
            "31464  75123                                    [712, 879, 878]\n",
            "\n",
            "[31465 rows x 2 columns]\n"
          ]
        }
      ],
      "source": [
        "# merge all the item with same TiD into one row\n",
        "df1 = df1.groupby('TiD')['Item'].apply(list).reset_index()\n",
        "print(df1)"
      ]
    },
    {
      "cell_type": "code",
      "execution_count": 58,
      "metadata": {},
      "outputs": [
        {
          "name": "stdout",
          "output_type": "stream",
          "text": [
            "         TiD   EpocTime\n",
            "0      43659 2011-05-31\n",
            "1      43660 2011-05-31\n",
            "2      43661 2011-05-31\n",
            "3      43662 2011-05-31\n",
            "4      43663 2011-05-31\n",
            "...      ...        ...\n",
            "31460  75119 2014-06-30\n",
            "31461  75120 2014-06-30\n",
            "31462  75121 2014-06-30\n",
            "31463  75122 2014-06-30\n",
            "31464  75123 2014-06-30\n",
            "\n",
            "[31465 rows x 2 columns]\n"
          ]
        }
      ],
      "source": [
        "query2 = \"\"\"\n",
        "select SalesOrderID as TiD,\n",
        "\tOrderDate as EpocTime\n",
        "from [CompanyX].[Sales].[SalesOrderHeader]\n",
        "group by SalesOrderID, OrderDate \n",
        "order by SalesOrderID\n",
        "\"\"\"\n",
        "\n",
        "cursor.execute(query2)\n",
        "result = cursor.fetchall()\n",
        "df2 = pd.DataFrame(np.asarray(result), columns=['TiD','EpocTime'])\n",
        "print(df2)"
      ]
    },
    {
      "cell_type": "code",
      "execution_count": 61,
      "metadata": {},
      "outputs": [
        {
          "name": "stdout",
          "output_type": "stream",
          "text": [
            "         TiD                                               Item   EpocTime\n",
            "0      43659  [716, 712, 771, 778, 774, 709, 777, 711, 773, ... 2011-05-31\n",
            "1      43660                                         [762, 758] 2011-05-31\n",
            "2      43661  [743, 712, 708, 716, 775, 747, 711, 742, 778, ... 2011-05-31\n",
            "3      43662  [730, 722, 726, 763, 753, 725, 738, 749, 733, ... 2011-05-31\n",
            "4      43663                                              [760] 2011-05-31\n",
            "...      ...                                                ...        ...\n",
            "31460  75119                                    [873, 921, 930] 2014-06-30\n",
            "31461  75120                                    [884, 878, 712] 2014-06-30\n",
            "31462  75121                                    [921, 707, 930] 2014-06-30\n",
            "31463  75122                                         [712, 878] 2014-06-30\n",
            "31464  75123                                    [712, 879, 878] 2014-06-30\n",
            "\n",
            "[31465 rows x 3 columns]\n"
          ]
        }
      ],
      "source": [
        "# perform inner join on the two dataframes\n",
        "table1 = pd.merge(df1, df2, on='TiD', how='inner')\n",
        "print(table1)   "
      ]
    },
    {
      "cell_type": "code",
      "execution_count": 62,
      "metadata": {},
      "outputs": [],
      "source": [
        "# export the table to a csv file\n",
        "table1.to_csv('table1.csv', index=False)\n",
        "# TODO: one hot encoding for the items later"
      ]
    },
    {
      "cell_type": "markdown",
      "metadata": {},
      "source": [
        "### Extract the table 2\n",
        "Each row contain <i, dr, t>, i is the item, dr is the discount rate, t is the period in which item i has dr discount\n",
        "\n",
        "![Table 2](img/table2.png)"
      ]
    },
    {
      "cell_type": "code",
      "execution_count": null,
      "metadata": {},
      "outputs": [],
      "source": []
    }
  ],
  "metadata": {
    "kernelspec": {
      "display_name": "venv",
      "language": "python",
      "name": "python3"
    },
    "language_info": {
      "codemirror_mode": {
        "name": "ipython",
        "version": 3
      },
      "file_extension": ".py",
      "mimetype": "text/x-python",
      "name": "python",
      "nbconvert_exporter": "python",
      "pygments_lexer": "ipython3",
      "version": "3.10.4"
    }
  },
  "nbformat": 4,
  "nbformat_minor": 2
}
