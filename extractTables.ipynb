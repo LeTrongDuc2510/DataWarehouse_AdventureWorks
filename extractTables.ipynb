{
  "cells": [
    {
      "cell_type": "code",
      "execution_count": 2,
      "metadata": {},
      "outputs": [
        {
          "name": "stderr",
          "output_type": "stream",
          "text": [
            "C:\\Users\\ADMIN\\AppData\\Local\\Temp\\ipykernel_10048\\1098552811.py:3: DeprecationWarning: \n",
            "Pyarrow will become a required dependency of pandas in the next major release of pandas (pandas 3.0),\n",
            "(to allow more performant data types, such as the Arrow string type, and better interoperability with other libraries)\n",
            "but was not found to be installed on your system.\n",
            "If this would cause problems for you,\n",
            "please provide us feedback at https://github.com/pandas-dev/pandas/issues/54466\n",
            "        \n",
            "  import pandas as pd\n"
          ]
        }
      ],
      "source": [
        "import numpy as np\n",
        "import pyodbc\n",
        "import pandas as pd"
      ]
    },
    {
      "cell_type": "code",
      "execution_count": 3,
      "metadata": {},
      "outputs": [],
      "source": [
        "# current\n",
        "# connect to the SQL server database\n",
        "conn = pyodbc.connect(\n",
        "    '''\n",
        "    DRIVER={ODBC Driver 17 for SQL Server};\n",
        "    SERVER=DESKTOP-7CB1RAA;\n",
        "    DATABASE=CompanyX;\n",
        "    Trusted_Connection=yes;\n",
        "    '''\n",
        "    )\n",
        "\n",
        "# create a cursor to fetch data\n",
        "cursor = conn.cursor()"
      ]
    },
    {
      "cell_type": "markdown",
      "metadata": {},
      "source": [
        "### Extract the table 1\n",
        "Each row contain <Tid, s, t>, Tid is the transaction identifier, s is the set of item, t is the time epoch expressing the time that Tid occurs\n",
        "\n",
        "![Table 1](img/table1.png)\n"
      ]
    },
    {
      "cell_type": "code",
      "execution_count": 4,
      "metadata": {},
      "outputs": [
        {
          "name": "stdout",
          "output_type": "stream",
          "text": [
            "          TiD  Item\n",
            "0       43659   716\n",
            "1       43659   712\n",
            "2       43659   771\n",
            "3       43659   778\n",
            "4       43659   774\n",
            "...       ...   ...\n",
            "121312  75122   712\n",
            "121313  75122   878\n",
            "121314  75123   712\n",
            "121315  75123   879\n",
            "121316  75123   878\n",
            "\n",
            "[121317 rows x 2 columns]\n"
          ]
        }
      ],
      "source": [
        "query1 = \"\"\"\n",
        "select SalesOrderID as TiD,\n",
        "\tProductID as Item\n",
        "from [CompanyX].[Sales].[SalesOrderDetail]\n",
        "group by SalesOrderID, ProductID\n",
        "order by SalesOrderID\n",
        "\"\"\"\n",
        "\n",
        "cursor.execute(query1)\n",
        "result = cursor.fetchall()\n",
        "df1 = pd.DataFrame(np.asarray(result), columns=['TiD','Item'])\n",
        "print(df1)\n"
      ]
    },
    {
      "cell_type": "code",
      "execution_count": 5,
      "metadata": {},
      "outputs": [
        {
          "name": "stdout",
          "output_type": "stream",
          "text": [
            "         TiD                                               Item\n",
            "0      43659  [716, 712, 771, 778, 774, 709, 777, 711, 773, ...\n",
            "1      43660                                         [762, 758]\n",
            "2      43661  [743, 712, 708, 716, 775, 747, 711, 742, 778, ...\n",
            "3      43662  [730, 722, 726, 763, 753, 725, 738, 749, 733, ...\n",
            "4      43663                                              [760]\n",
            "...      ...                                                ...\n",
            "31460  75119                                    [873, 921, 930]\n",
            "31461  75120                                    [884, 878, 712]\n",
            "31462  75121                                    [921, 707, 930]\n",
            "31463  75122                                         [712, 878]\n",
            "31464  75123                                    [712, 879, 878]\n",
            "\n",
            "[31465 rows x 2 columns]\n"
          ]
        }
      ],
      "source": [
        "# merge all the item with same TiD into one row\n",
        "df1 = df1.groupby('TiD')['Item'].apply(list).reset_index()\n",
        "print(df1)"
      ]
    },
    {
      "cell_type": "code",
      "execution_count": 6,
      "metadata": {},
      "outputs": [
        {
          "name": "stdout",
          "output_type": "stream",
          "text": [
            "         TiD   EpocTime\n",
            "0      43659 2011-05-31\n",
            "1      43660 2011-05-31\n",
            "2      43661 2011-05-31\n",
            "3      43662 2011-05-31\n",
            "4      43663 2011-05-31\n",
            "...      ...        ...\n",
            "31460  75119 2014-06-30\n",
            "31461  75120 2014-06-30\n",
            "31462  75121 2014-06-30\n",
            "31463  75122 2014-06-30\n",
            "31464  75123 2014-06-30\n",
            "\n",
            "[31465 rows x 2 columns]\n"
          ]
        }
      ],
      "source": [
        "query2 = \"\"\"\n",
        "select SalesOrderID as TiD,\n",
        "\tOrderDate as EpocTime\n",
        "from [CompanyX].[Sales].[SalesOrderHeader]\n",
        "group by SalesOrderID, OrderDate \n",
        "order by SalesOrderID\n",
        "\"\"\"\n",
        "\n",
        "cursor.execute(query2)\n",
        "result = cursor.fetchall()\n",
        "df2 = pd.DataFrame(np.asarray(result), columns=['TiD','EpocTime'])\n",
        "print(df2)"
      ]
    },
    {
      "cell_type": "code",
      "execution_count": 7,
      "metadata": {},
      "outputs": [
        {
          "name": "stdout",
          "output_type": "stream",
          "text": [
            "         TiD                                               Item   EpocTime\n",
            "0      43659  [716, 712, 771, 778, 774, 709, 777, 711, 773, ... 2011-05-31\n",
            "1      43660                                         [762, 758] 2011-05-31\n",
            "2      43661  [743, 712, 708, 716, 775, 747, 711, 742, 778, ... 2011-05-31\n",
            "3      43662  [730, 722, 726, 763, 753, 725, 738, 749, 733, ... 2011-05-31\n",
            "4      43663                                              [760] 2011-05-31\n",
            "...      ...                                                ...        ...\n",
            "31460  75119                                    [873, 921, 930] 2014-06-30\n",
            "31461  75120                                    [884, 878, 712] 2014-06-30\n",
            "31462  75121                                    [921, 707, 930] 2014-06-30\n",
            "31463  75122                                         [712, 878] 2014-06-30\n",
            "31464  75123                                    [712, 879, 878] 2014-06-30\n",
            "\n",
            "[31465 rows x 3 columns]\n"
          ]
        }
      ],
      "source": [
        "# perform inner join on the two dataframes\n",
        "table1 = pd.merge(df1, df2, on='TiD', how='inner')\n",
        "print(table1)   "
      ]
    },
    {
      "cell_type": "code",
      "execution_count": 8,
      "metadata": {},
      "outputs": [],
      "source": [
        "# export the table to a csv file\n",
        "# table1.to_csv('table1.csv', index=False)\n",
        "# TODO: one hot encoding for the items later"
      ]
    },
    {
      "cell_type": "markdown",
      "metadata": {},
      "source": [
        "### Extract the table 2\n",
        "Each row contain <i, dr, t>, i is the item, dr is the discount rate, t is the period in which item i has dr discount\n",
        "\n",
        "![Table 2](img/table2.png)"
      ]
    },
    {
      "cell_type": "code",
      "execution_count": 9,
      "metadata": {},
      "outputs": [
        {
          "name": "stdout",
          "output_type": "stream",
          "text": [
            "    item    dr  startDate    endDate\n",
            "0    707  0.00 2011-05-01 2014-11-30\n",
            "1    707  0.02 2011-05-31 2014-05-30\n",
            "2    707  0.05 2011-05-31 2014-05-30\n",
            "3    707  0.10 2012-05-30 2012-06-29\n",
            "4    707  0.15 2013-05-30 2013-06-29\n",
            "..   ...   ...        ...        ...\n",
            "479  998  0.00 2011-05-01 2014-11-30\n",
            "480  998  0.02 2011-05-31 2014-05-30\n",
            "481  998  0.05 2011-05-31 2014-05-30\n",
            "482  999  0.00 2011-05-01 2014-11-30\n",
            "483  999  0.02 2011-05-31 2014-05-30\n",
            "\n",
            "[484 rows x 4 columns]\n"
          ]
        }
      ],
      "source": [
        "querry3 = \"\"\"\n",
        "select distinct\n",
        "\tsod.ProductID as item,\n",
        "\tso.DiscountPct as dr,\n",
        "\tso.StartDate as startDate,\n",
        "\tso.EndDate as endDate\n",
        "from [CompanyX].[Sales].[SalesOrderDetail] as sod\n",
        "join [CompanyX].[Sales].[SpecialOffer] as so\n",
        "on sod.SpecialOfferID = so.SpecialOfferID\n",
        "order by sod.ProductID\n",
        "\"\"\"\n",
        "\n",
        "cursor.execute(querry3)\n",
        "result = cursor.fetchall()\n",
        "df3 = pd.DataFrame(np.asarray(result), columns=['item','dr','startDate','endDate'])\n",
        "df3['dr'] = df3['dr'].astype(float)\n",
        "\n",
        "table2 = df3\n",
        "print(table2)\n",
        "# type(df3['startDate'][0])"
      ]
    },
    {
      "cell_type": "code",
      "execution_count": 10,
      "metadata": {},
      "outputs": [],
      "source": [
        "# export the table to a csv file\n",
        "# table2.to_csv('table2.csv', index=False)"
      ]
    },
    {
      "cell_type": "code",
      "execution_count": 21,
      "metadata": {},
      "outputs": [
        {
          "name": "stdout",
          "output_type": "stream",
          "text": [
            "    ProductID  StartDate    EndDate     Price\n",
            "0         707 2011-05-31 2012-05-29   33.6442\n",
            "1         707 2012-05-30 2013-05-29   33.6442\n",
            "2         707 2013-05-30        NaT   34.9900\n",
            "3         708 2011-05-31 2012-05-29   33.6442\n",
            "4         708 2012-05-30 2013-05-29   33.6442\n",
            "..        ...        ...        ...       ...\n",
            "390       995 2013-05-30        NaT  101.2400\n",
            "391       996 2013-05-30        NaT  121.4900\n",
            "392       997 2013-05-30        NaT  539.9900\n",
            "393       998 2013-05-30        NaT  539.9900\n",
            "394       999 2013-05-30        NaT  539.9900\n",
            "\n",
            "[395 rows x 4 columns]\n"
          ]
        }
      ],
      "source": [
        "query4 = \"\"\"\n",
        "SELECT \n",
        "        [ProductID]\n",
        "      ,[StartDate]\n",
        "      ,[EndDate]\n",
        "      ,[ListPrice]\n",
        "   FROM [CompanyX].[Production].[ProductListPriceHistory]\n",
        "\"\"\"\n",
        "cursor.execute(query4)\n",
        "result = cursor.fetchall()\n",
        "df4 = pd.DataFrame(np.asarray(result), columns=['ProductID','StartDate','EndDate','Price'])\n",
        "print(df4)\n",
        "# df4.to_csv('price.csv', index=False)"
      ]
    },
    {
      "cell_type": "code",
      "execution_count": 24,
      "metadata": {},
      "outputs": [
        {
          "name": "stdout",
          "output_type": "stream",
          "text": [
            "    ProductID  StartDate    EndDate      Cost\n",
            "0         707 2011-05-31 2012-05-29   12.0278\n",
            "1         707 2012-05-30 2013-05-29   13.8782\n",
            "2         707 2013-05-30        NaT   13.0863\n",
            "3         708 2011-05-31 2012-05-29   12.0278\n",
            "4         708 2012-05-30 2013-05-29   13.8782\n",
            "..        ...        ...        ...       ...\n",
            "390       995 2013-05-30        NaT   44.9506\n",
            "391       996 2013-05-30        NaT   53.9416\n",
            "392       997 2013-05-30        NaT  343.6496\n",
            "393       998 2013-05-30        NaT  343.6496\n",
            "394       999 2013-05-30        NaT  343.6496\n",
            "\n",
            "[395 rows x 4 columns]\n"
          ]
        }
      ],
      "source": [
        "query5 = \"\"\"\n",
        "SELECT [ProductID]\n",
        "      ,[StartDate]\n",
        "      ,[EndDate]\n",
        "      ,[StandardCost]\n",
        "  FROM [CompanyX].[Production].[ProductCostHistory]\n",
        "\"\"\"\n",
        "cursor.execute(query5)\n",
        "result = cursor.fetchall()\n",
        "df5 = pd.DataFrame(np.asarray(result), columns=['ProductID','StartDate','EndDate','Cost'])\n",
        "print(df5)\n",
        "# df5.to_csv('cost.csv', index=False)"
      ]
    }
  ],
  "metadata": {
    "kernelspec": {
      "display_name": "venv",
      "language": "python",
      "name": "python3"
    },
    "language_info": {
      "codemirror_mode": {
        "name": "ipython",
        "version": 3
      },
      "file_extension": ".py",
      "mimetype": "text/x-python",
      "name": "python",
      "nbconvert_exporter": "python",
      "pygments_lexer": "ipython3",
      "version": "3.10.4"
    }
  },
  "nbformat": 4,
  "nbformat_minor": 2
}
